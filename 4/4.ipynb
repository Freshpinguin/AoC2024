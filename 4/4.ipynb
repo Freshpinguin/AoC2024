{
 "cells": [
  {
   "cell_type": "code",
   "execution_count": 2,
   "metadata": {},
   "outputs": [],
   "source": [
    "example_inp = \"\"\"MMMSXXMASM\n",
    "MSAMXMSMSA\n",
    "AMXSXMAAMM\n",
    "MSAMASMSMX\n",
    "XMASAMXAMM\n",
    "XXAMMXXAMA\n",
    "SMSMSASXSS\n",
    "SAXAMASAAA\n",
    "MAMMMXMMMM\n",
    "MXMXAXMASX\"\"\""
   ]
  },
  {
   "cell_type": "code",
   "execution_count": 27,
   "metadata": {},
   "outputs": [
    {
     "name": "stdout",
     "output_type": "stream",
     "text": [
      "[(0, 4), (1, 5), (2, 6), (3, 7)]\n",
      "[(0, 5), (0, 6), (0, 7), (0, 8)]\n",
      "[(1, 4), (1, 3), (1, 2), (1, 1)]\n",
      "[(3, 9), (4, 9), (5, 9), (6, 9)]\n",
      "[(3, 9), (4, 8), (5, 7), (6, 6)]\n",
      "[(4, 0), (4, 1), (4, 2), (4, 3)]\n",
      "[(4, 6), (4, 5), (4, 4), (4, 3)]\n",
      "[(4, 6), (3, 6), (2, 6), (1, 6)]\n",
      "[(5, 0), (4, 1), (3, 2), (2, 3)]\n",
      "[(5, 6), (4, 5), (3, 4), (2, 3)]\n",
      "[(9, 1), (8, 2), (7, 3), (6, 4)]\n",
      "[(9, 3), (8, 2), (7, 1), (6, 0)]\n",
      "[(9, 3), (8, 4), (7, 5), (6, 6)]\n",
      "[(9, 5), (9, 6), (9, 7), (9, 8)]\n",
      "[(9, 5), (8, 4), (7, 3), (6, 2)]\n",
      "[(9, 5), (8, 6), (7, 7), (6, 8)]\n",
      "[(9, 9), (8, 9), (7, 9), (6, 9)]\n",
      "[(9, 9), (8, 8), (7, 7), (6, 6)]\n",
      "18\n"
     ]
    }
   ],
   "source": [
    "input = example_inp\n",
    "input = [list(row) for row in input.split(\"\\n\")]\n",
    "\n",
    "patterns = [\n",
    "    [(0,0),(0,1),(0,2),(0,3)],\n",
    "    [(0,0),(0,-1),(0,-2),(0,-3)],\n",
    "    [(0,0),(1,0),(2,0),(3,0)],\n",
    "    [(0,0),(-1,0),(-2,0),(-3,0)],\n",
    "    [(0,0),(1,1),(2,2),(3,3)],\n",
    "    [(0,0),(-1,-1),(-2,-2),(-3,-3)],\n",
    "    [(0,0),(1,-1),(2,-2),(3,-3)],\n",
    "    [(0,0),(-1,1),(-2,2),(-3,3)]\n",
    "]\n",
    "\n",
    "count = 0\n",
    "for x,y in [(x,y) for x in range(len(input)) for y in range(len(input[0]))]:\n",
    "    if input[x][y] == \"X\":\n",
    "        for pattern in patterns:\n",
    "            indices = [(x+dx, y+dy) for dx,dy in pattern if x+dx >= 0 and y+dy >= 0]\n",
    "\n",
    "            try:\n",
    "                word = \"\".join([input[x][y] for x,y in indices])\n",
    "                if word == \"XMAS\":\n",
    "                    count += 1\n",
    "                    print(indices)\n",
    "            except IndexError:\n",
    "                continue\n",
    "print(count)"
   ]
  },
  {
   "cell_type": "code",
   "execution_count": 35,
   "metadata": {},
   "outputs": [],
   "source": [
    "with open(\"input.txt\", \"r\") as this:\n",
    "    input = this.read()\n",
    "input = input.split(\"\\n\")[:-1]\n",
    "input = [list(row) for row in input]"
   ]
  },
  {
   "cell_type": "code",
   "execution_count": 30,
   "metadata": {},
   "outputs": [
    {
     "name": "stdout",
     "output_type": "stream",
     "text": [
      "2644\n"
     ]
    }
   ],
   "source": [
    "patterns = [\n",
    "    [(0,0),(0,1),(0,2),(0,3)],\n",
    "    [(0,0),(0,-1),(0,-2),(0,-3)],\n",
    "    [(0,0),(1,0),(2,0),(3,0)],\n",
    "    [(0,0),(-1,0),(-2,0),(-3,0)],\n",
    "    [(0,0),(1,1),(2,2),(3,3)],\n",
    "    [(0,0),(-1,-1),(-2,-2),(-3,-3)],\n",
    "    [(0,0),(1,-1),(2,-2),(3,-3)],\n",
    "    [(0,0),(-1,1),(-2,2),(-3,3)]\n",
    "]\n",
    "\n",
    "count = 0\n",
    "for x,y in [(x,y) for x in range(len(input)) for y in range(len(input[0]))]:\n",
    "    if input[x][y] == \"X\":\n",
    "        for pattern in patterns:\n",
    "            indices = [(x+dx, y+dy) for dx,dy in pattern if x+dx >= 0 and y+dy >= 0]\n",
    "            try:\n",
    "                word = \"\".join([input[x][y] for x,y in indices])\n",
    "                if word == \"XMAS\":\n",
    "                    count += 1\n",
    "            except IndexError:\n",
    "                continue\n",
    "print(count)"
   ]
  },
  {
   "cell_type": "markdown",
   "metadata": {},
   "source": [
    "Part 2"
   ]
  },
  {
   "cell_type": "code",
   "execution_count": 36,
   "metadata": {},
   "outputs": [
    {
     "name": "stdout",
     "output_type": "stream",
     "text": [
      "1952\n"
     ]
    }
   ],
   "source": [
    "\n",
    "\n",
    "patterns = [\n",
    "    [(0,0),(-1,-1),(1,1),(1,-1),((-1,1))],\n",
    "    \n",
    "]\n",
    "\n",
    "count = 0\n",
    "for x,y in [(x,y) for x in range(len(input)) for y in range(len(input[0]))]:\n",
    "    if input[x][y] == \"A\":\n",
    "        for pattern in patterns:\n",
    "            indices = [(x+dx, y+dy) for dx,dy in pattern if x+dx >= 0 and y+dy >= 0]\n",
    "\n",
    "            try:\n",
    "                word = \"\".join([input[x][y] for x,y in indices])\n",
    "                if word in [\"AMSMS\",\"AMSSM\", \"ASMSM\", \"ASMMS\"]:\n",
    "                    count += 1\n",
    "            except IndexError:\n",
    "                continue\n",
    "print(count)"
   ]
  }
 ],
 "metadata": {
  "kernelspec": {
   "display_name": "Python 3",
   "language": "python",
   "name": "python3"
  },
  "language_info": {
   "codemirror_mode": {
    "name": "ipython",
    "version": 3
   },
   "file_extension": ".py",
   "mimetype": "text/x-python",
   "name": "python",
   "nbconvert_exporter": "python",
   "pygments_lexer": "ipython3",
   "version": "3.12.0"
  }
 },
 "nbformat": 4,
 "nbformat_minor": 2
}
