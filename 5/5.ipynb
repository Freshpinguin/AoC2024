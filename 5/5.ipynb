{
 "cells": [
  {
   "cell_type": "code",
   "execution_count": 2,
   "metadata": {},
   "outputs": [],
   "source": [
    "example_input = \"\"\"47|53\n",
    "97|13\n",
    "97|61\n",
    "97|47\n",
    "75|29\n",
    "61|13\n",
    "75|53\n",
    "29|13\n",
    "97|29\n",
    "53|29\n",
    "61|53\n",
    "97|53\n",
    "61|29\n",
    "47|13\n",
    "75|47\n",
    "97|75\n",
    "47|61\n",
    "75|61\n",
    "47|29\n",
    "75|13\n",
    "53|13\n",
    "\n",
    "75,47,61,53,29\n",
    "97,61,53,29,13\n",
    "75,29,13\n",
    "75,97,47,61,53\n",
    "61,13,29\n",
    "97,13,75,29,47\n",
    "\"\"\""
   ]
  },
  {
   "cell_type": "code",
   "execution_count": 34,
   "metadata": {},
   "outputs": [],
   "source": [
    "with open(\"input.txt\", \"r\") as f:\n",
    "    input_data = f.read()"
   ]
  },
  {
   "cell_type": "code",
   "execution_count": 35,
   "metadata": {},
   "outputs": [],
   "source": [
    "rules, orderings = input_data.split(\"\\n\\n\")\n"
   ]
  },
  {
   "cell_type": "code",
   "execution_count": 36,
   "metadata": {},
   "outputs": [],
   "source": [
    "rules.split(\"\\n\")\n",
    "dict_rules = {}\n",
    "\n",
    "for rule in rules.split(\"\\n\"):\n",
    "    key, value = rule.split(\"|\")\n",
    "    if key in dict_rules:\n",
    "        dict_rules[key].append(value)\n",
    "    else:\n",
    "        dict_rules[key] = [value]"
   ]
  },
  {
   "cell_type": "code",
   "execution_count": 37,
   "metadata": {},
   "outputs": [],
   "source": [
    "orderings = [x.split(\",\") for x in orderings.split(\"\\n\") if x]"
   ]
  },
  {
   "cell_type": "code",
   "execution_count": 38,
   "metadata": {},
   "outputs": [
    {
     "name": "stdout",
     "output_type": "stream",
     "text": [
      "5329\n"
     ]
    }
   ],
   "source": [
    "sum = 0\n",
    "for ordering in orderings:\n",
    "    keep_ordering = True\n",
    "    for ind, item in enumerate(ordering):\n",
    "        \n",
    "        if set(dict_rules.get(item, [])) & set(ordering[:ind]):\n",
    "            keep_ordering = False\n",
    "            break\n",
    "    if keep_ordering:\n",
    "        sum += int(ordering[int((len(ordering)-1)/2)])\n",
    "print(sum)"
   ]
  },
  {
   "cell_type": "markdown",
   "metadata": {},
   "source": [
    "# Part 2"
   ]
  },
  {
   "cell_type": "code",
   "execution_count": 65,
   "metadata": {},
   "outputs": [],
   "source": [
    "rules, orderings = input_data.split(\"\\n\\n\")\n",
    "rules.split(\"\\n\")\n",
    "dict_rules = {}\n",
    "\n",
    "for rule in rules.split(\"\\n\"):\n",
    "    key, value = rule.split(\"|\")\n",
    "    if key in dict_rules:\n",
    "        dict_rules[key].append(value)\n",
    "    else:\n",
    "        dict_rules[key] = [value]\n",
    "orderings = [x.split(\",\") for x in orderings.split(\"\\n\") if x]\n",
    "\n",
    "wrong_orderings = []\n",
    "for ordering in orderings:\n",
    "\n",
    "    for ind, item in enumerate(ordering):\n",
    "        \n",
    "        if set(dict_rules.get(item, [])) & set(ordering[:ind]):\n",
    "            wrong_orderings.append(ordering)\n",
    "            break\n"
   ]
  },
  {
   "cell_type": "code",
   "execution_count": 66,
   "metadata": {},
   "outputs": [
    {
     "name": "stdout",
     "output_type": "stream",
     "text": [
      "5833\n"
     ]
    }
   ],
   "source": [
    "sum = 0\n",
    "for wrong in wrong_orderings:\n",
    "\n",
    "    new_ordering = [\"\" for _ in range(len(wrong))]\n",
    "    for ele in wrong:\n",
    "        new_ordering[len(wrong) - 1- (len(set(dict_rules.get(ele, [])) & set(wrong)))] = ele\n",
    "    sum += int(new_ordering[int((len(new_ordering)-1)/2)])\n",
    "print(sum)"
   ]
  }
 ],
 "metadata": {
  "kernelspec": {
   "display_name": "Python 3",
   "language": "python",
   "name": "python3"
  },
  "language_info": {
   "codemirror_mode": {
    "name": "ipython",
    "version": 3
   },
   "file_extension": ".py",
   "mimetype": "text/x-python",
   "name": "python",
   "nbconvert_exporter": "python",
   "pygments_lexer": "ipython3",
   "version": "3.12.0"
  }
 },
 "nbformat": 4,
 "nbformat_minor": 2
}
