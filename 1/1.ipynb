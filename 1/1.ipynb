{
 "cells": [
  {
   "cell_type": "markdown",
   "metadata": {},
   "source": [
    "# Part 1"
   ]
  },
  {
   "cell_type": "code",
   "execution_count": 49,
   "metadata": {},
   "outputs": [],
   "source": [
    "with open(\"input\", \"r\") as f:\n",
    "    data = f.read().strip().split(\"\\n\")"
   ]
  },
  {
   "cell_type": "code",
   "execution_count": 47,
   "metadata": {},
   "outputs": [
    {
     "name": "stdout",
     "output_type": "stream",
     "text": [
      "11\n"
     ]
    }
   ],
   "source": [
    "example_data = \"\"\"\n",
    "3   4\n",
    "4   3\n",
    "2   5\n",
    "1   3\n",
    "3   9\n",
    "3   3\n",
    "\"\"\".split(\"\\n\")\n",
    "\n",
    "\n",
    "def solution(input: str) -> int:\n",
    "    input = [[int(y) for y in x.split(\"   \")] for x in input if x]\n",
    "    first_col = sorted([x[0] for x in input])\n",
    "    second_col = sorted([x[1] for x in input])\n",
    "    diff = sum([abs(second_col[i] - first_col[i]) for i in range(len(first_col))])\n",
    "    return diff\n",
    "\n",
    "print(solution(example_data))"
   ]
  },
  {
   "cell_type": "code",
   "execution_count": 50,
   "metadata": {},
   "outputs": [
    {
     "data": {
      "text/plain": [
       "1879048"
      ]
     },
     "execution_count": 50,
     "metadata": {},
     "output_type": "execute_result"
    }
   ],
   "source": [
    "solution(data)"
   ]
  },
  {
   "cell_type": "markdown",
   "metadata": {},
   "source": [
    "# Part 2"
   ]
  },
  {
   "cell_type": "code",
   "execution_count": 51,
   "metadata": {},
   "outputs": [
    {
     "name": "stdout",
     "output_type": "stream",
     "text": [
      "31\n"
     ]
    }
   ],
   "source": [
    "example_data = \"\"\"\n",
    "3   4\n",
    "4   3\n",
    "2   5\n",
    "1   3\n",
    "3   9\n",
    "3   3\n",
    "\"\"\".split(\"\\n\")\n",
    "\n",
    "\n",
    "def solution(input: str) -> int:\n",
    "    input = [[int(y) for y in x.split(\"   \")] for x in input if x]\n",
    "    first_col = [x[0] for x in input]\n",
    "    second_col = [x[1] for x in input]\n",
    "\n",
    "    counter = {}\n",
    "    for entry in second_col:\n",
    "        if entry in counter:\n",
    "            counter[entry] += 1\n",
    "        else:\n",
    "            counter[entry] = 1\n",
    "    \n",
    "    result = 0\n",
    "    \n",
    "    for entry in first_col:\n",
    "        if entry in counter:\n",
    "            result += entry * counter[entry]\n",
    "\n",
    "    return result\n",
    "\n",
    "print(solution(example_data))"
   ]
  },
  {
   "cell_type": "code",
   "execution_count": 52,
   "metadata": {},
   "outputs": [
    {
     "data": {
      "text/plain": [
       "21024792"
      ]
     },
     "execution_count": 52,
     "metadata": {},
     "output_type": "execute_result"
    }
   ],
   "source": [
    "solution(data)"
   ]
  }
 ],
 "metadata": {
  "kernelspec": {
   "display_name": "venv",
   "language": "python",
   "name": "python3"
  },
  "language_info": {
   "codemirror_mode": {
    "name": "ipython",
    "version": 3
   },
   "file_extension": ".py",
   "mimetype": "text/x-python",
   "name": "python",
   "nbconvert_exporter": "python",
   "pygments_lexer": "ipython3",
   "version": "3.12.7"
  }
 },
 "nbformat": 4,
 "nbformat_minor": 2
}
