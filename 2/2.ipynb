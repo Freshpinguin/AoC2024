{
 "cells": [
  {
   "cell_type": "code",
   "execution_count": 3,
   "metadata": {},
   "outputs": [],
   "source": [
    "import numpy as np"
   ]
  },
  {
   "cell_type": "code",
   "execution_count": 17,
   "metadata": {},
   "outputs": [],
   "source": [
    "example_data = \"\"\"7 6 4 2 1\n",
    "1 2 7 8 9\n",
    "9 7 6 2 1\n",
    "1 3 2 4 5\n",
    "8 6 4 4 1\n",
    "1 3 6 7 9\n",
    "\"\"\"\n"
   ]
  },
  {
   "cell_type": "code",
   "execution_count": null,
   "metadata": {},
   "outputs": [],
   "source": [
    "with open(\"input\", \"r\") as f:\n",
    "    data = f.read()"
   ]
  },
  {
   "cell_type": "code",
   "execution_count": 55,
   "metadata": {},
   "outputs": [
    {
     "data": {
      "text/plain": [
       "2"
      ]
     },
     "execution_count": 55,
     "metadata": {},
     "output_type": "execute_result"
    }
   ],
   "source": [
    "data = example_data\n",
    "\n",
    "def solution(data: str) -> int:\n",
    "    data = data.split(\"\\n\")[:-1]\n",
    "    data = [np.diff(np.array(x.split(\" \"), dtype=int)) for x in data]\n",
    "    data = [np.abs(x) for x in data if (x>0).all() or (x<0).all()]\n",
    "    data = [x for x in data if (x<=3).all()]\n",
    "    return len(data)\n",
    "\n",
    "solution(example_data)"
   ]
  },
  {
   "cell_type": "code",
   "execution_count": 61,
   "metadata": {},
   "outputs": [
    {
     "data": {
      "text/plain": [
       "432"
      ]
     },
     "execution_count": 61,
     "metadata": {},
     "output_type": "execute_result"
    }
   ],
   "source": [
    "solution(data)"
   ]
  },
  {
   "cell_type": "markdown",
   "metadata": {},
   "source": [
    "# 2 Part"
   ]
  },
  {
   "cell_type": "code",
   "execution_count": 73,
   "metadata": {},
   "outputs": [
    {
     "data": {
      "text/plain": [
       "4"
      ]
     },
     "execution_count": 73,
     "metadata": {},
     "output_type": "execute_result"
    }
   ],
   "source": [
    "\n",
    "def is_safe(data: np.array) -> bool:\n",
    "\n",
    "    diff = np.diff(data)\n",
    "\n",
    "    if (diff > 0).all() and (diff <= 3).all():\n",
    "        return True\n",
    "\n",
    "    if (diff < 0).all() and (diff >= -3).all():\n",
    "        return True\n",
    "    \n",
    "    return False\n",
    "\n",
    "def solution(data: str) -> int:\n",
    "    data = data.split(\"\\n\")[:-1]\n",
    "    data = [[int(y) for y in x.split(\" \")] for x in data]\n",
    "\n",
    "\n",
    "    safe_reports = 0\n",
    "\n",
    "    for report in data:\n",
    "        if is_safe(report):\n",
    "            safe_reports += 1\n",
    "        else:    \n",
    "            for i in range(len(report)):\n",
    "\n",
    "                if is_safe(report[:i] + report[i+1:]):\n",
    "                    safe_reports += 1\n",
    "                    break\n",
    "    return safe_reports\n",
    "solution(example_data)\n",
    "\n"
   ]
  },
  {
   "cell_type": "code",
   "execution_count": 74,
   "metadata": {},
   "outputs": [
    {
     "data": {
      "text/plain": [
       "488"
      ]
     },
     "execution_count": 74,
     "metadata": {},
     "output_type": "execute_result"
    }
   ],
   "source": [
    "solution(data)"
   ]
  }
 ],
 "metadata": {
  "kernelspec": {
   "display_name": "venv",
   "language": "python",
   "name": "python3"
  },
  "language_info": {
   "codemirror_mode": {
    "name": "ipython",
    "version": 3
   },
   "file_extension": ".py",
   "mimetype": "text/x-python",
   "name": "python",
   "nbconvert_exporter": "python",
   "pygments_lexer": "ipython3",
   "version": "3.12.7"
  }
 },
 "nbformat": 4,
 "nbformat_minor": 2
}
